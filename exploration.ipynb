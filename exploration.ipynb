{
 "cells": [
  {
   "cell_type": "code",
   "execution_count": 2,
   "metadata": {},
   "outputs": [],
   "source": [
    "import requests\n",
    "import json\n",
    "\n",
    "url = \"https://sportscore1.p.rapidapi.com/tennis-rankings/atp\"\n",
    "\n",
    "querystring = {\"page\":\"1\"}\n",
    "\n",
    "headers = {\n",
    "    'x-rapidapi-host': \"sportscore1.p.rapidapi.com\",\n",
    "    'x-rapidapi-key': \"811228ff06msh50e3dfe9f8a5ecfp1e975ejsn6b992dbfd77b\"\n",
    "    }\n",
    "\n",
    "response = requests.request(\"GET\", url, headers=headers, params=querystring)\n",
    "json_data = json.loads(response.text)"
   ]
  },
  {
   "cell_type": "code",
   "execution_count": 8,
   "metadata": {},
   "outputs": [],
   "source": [
    "import pandas as pd\n",
    "len(json_data['data'])\n",
    "\n",
    "players = pd.DataFrame.from_dict(json_data['data'])"
   ]
  },
  {
   "cell_type": "code",
   "execution_count": 9,
   "metadata": {},
   "outputs": [
    {
     "data": {
      "text/html": [
       "<div>\n",
       "<style scoped>\n",
       "    .dataframe tbody tr th:only-of-type {\n",
       "        vertical-align: middle;\n",
       "    }\n",
       "\n",
       "    .dataframe tbody tr th {\n",
       "        vertical-align: top;\n",
       "    }\n",
       "\n",
       "    .dataframe thead th {\n",
       "        text-align: right;\n",
       "    }\n",
       "</style>\n",
       "<table border=\"1\" class=\"dataframe\">\n",
       "  <thead>\n",
       "    <tr style=\"text-align: right;\">\n",
       "      <th></th>\n",
       "      <th>id</th>\n",
       "      <th>type</th>\n",
       "      <th>points</th>\n",
       "      <th>ranking</th>\n",
       "      <th>tournaments</th>\n",
       "      <th>official_updated_at</th>\n",
       "      <th>team</th>\n",
       "    </tr>\n",
       "  </thead>\n",
       "  <tbody>\n",
       "    <tr>\n",
       "      <th>0</th>\n",
       "      <td>1468</td>\n",
       "      <td>ATP</td>\n",
       "      <td>11540</td>\n",
       "      <td>1</td>\n",
       "      <td>14</td>\n",
       "      <td>2021-12-21</td>\n",
       "      <td>{'id': 17488, 'sport_id': 2, 'category_id': No...</td>\n",
       "    </tr>\n",
       "    <tr>\n",
       "      <th>1</th>\n",
       "      <td>1451</td>\n",
       "      <td>ATP</td>\n",
       "      <td>8640</td>\n",
       "      <td>2</td>\n",
       "      <td>23</td>\n",
       "      <td>2021-12-21</td>\n",
       "      <td>{'id': 16162, 'sport_id': 2, 'category_id': No...</td>\n",
       "    </tr>\n",
       "    <tr>\n",
       "      <th>2</th>\n",
       "      <td>1465</td>\n",
       "      <td>ATP</td>\n",
       "      <td>7840</td>\n",
       "      <td>3</td>\n",
       "      <td>23</td>\n",
       "      <td>2021-12-21</td>\n",
       "      <td>{'id': 17479, 'sport_id': 2, 'category_id': No...</td>\n",
       "    </tr>\n",
       "    <tr>\n",
       "      <th>3</th>\n",
       "      <td>1455</td>\n",
       "      <td>ATP</td>\n",
       "      <td>6540</td>\n",
       "      <td>4</td>\n",
       "      <td>26</td>\n",
       "      <td>2021-12-21</td>\n",
       "      <td>{'id': 13989, 'sport_id': 2, 'category_id': No...</td>\n",
       "    </tr>\n",
       "    <tr>\n",
       "      <th>4</th>\n",
       "      <td>1358</td>\n",
       "      <td>ATP</td>\n",
       "      <td>5150</td>\n",
       "      <td>5</td>\n",
       "      <td>28</td>\n",
       "      <td>2021-12-21</td>\n",
       "      <td>{'id': 16142, 'sport_id': 2, 'category_id': No...</td>\n",
       "    </tr>\n",
       "    <tr>\n",
       "      <th>...</th>\n",
       "      <td>...</td>\n",
       "      <td>...</td>\n",
       "      <td>...</td>\n",
       "      <td>...</td>\n",
       "      <td>...</td>\n",
       "      <td>...</td>\n",
       "      <td>...</td>\n",
       "    </tr>\n",
       "    <tr>\n",
       "      <th>95</th>\n",
       "      <td>20</td>\n",
       "      <td>ATP</td>\n",
       "      <td>773</td>\n",
       "      <td>96</td>\n",
       "      <td>34</td>\n",
       "      <td>2021-12-21</td>\n",
       "      <td>{'id': 12965, 'sport_id': 2, 'category_id': No...</td>\n",
       "    </tr>\n",
       "    <tr>\n",
       "      <th>96</th>\n",
       "      <td>905</td>\n",
       "      <td>ATP</td>\n",
       "      <td>770</td>\n",
       "      <td>97</td>\n",
       "      <td>30</td>\n",
       "      <td>2021-12-21</td>\n",
       "      <td>{'id': 13377, 'sport_id': 2, 'category_id': No...</td>\n",
       "    </tr>\n",
       "    <tr>\n",
       "      <th>97</th>\n",
       "      <td>702</td>\n",
       "      <td>ATP</td>\n",
       "      <td>765</td>\n",
       "      <td>98</td>\n",
       "      <td>35</td>\n",
       "      <td>2021-12-21</td>\n",
       "      <td>{'id': 12971, 'sport_id': 2, 'category_id': No...</td>\n",
       "    </tr>\n",
       "    <tr>\n",
       "      <th>98</th>\n",
       "      <td>909</td>\n",
       "      <td>ATP</td>\n",
       "      <td>762</td>\n",
       "      <td>99</td>\n",
       "      <td>37</td>\n",
       "      <td>2021-12-29</td>\n",
       "      <td>{'id': 13935, 'sport_id': 2, 'category_id': No...</td>\n",
       "    </tr>\n",
       "    <tr>\n",
       "      <th>99</th>\n",
       "      <td>968</td>\n",
       "      <td>ATP</td>\n",
       "      <td>759</td>\n",
       "      <td>100</td>\n",
       "      <td>36</td>\n",
       "      <td>2021-12-21</td>\n",
       "      <td>{'id': 13310, 'sport_id': 2, 'category_id': No...</td>\n",
       "    </tr>\n",
       "  </tbody>\n",
       "</table>\n",
       "<p>100 rows × 7 columns</p>\n",
       "</div>"
      ],
      "text/plain": [
       "      id type  points  ranking  tournaments official_updated_at  \\\n",
       "0   1468  ATP   11540        1           14          2021-12-21   \n",
       "1   1451  ATP    8640        2           23          2021-12-21   \n",
       "2   1465  ATP    7840        3           23          2021-12-21   \n",
       "3   1455  ATP    6540        4           26          2021-12-21   \n",
       "4   1358  ATP    5150        5           28          2021-12-21   \n",
       "..   ...  ...     ...      ...          ...                 ...   \n",
       "95    20  ATP     773       96           34          2021-12-21   \n",
       "96   905  ATP     770       97           30          2021-12-21   \n",
       "97   702  ATP     765       98           35          2021-12-21   \n",
       "98   909  ATP     762       99           37          2021-12-29   \n",
       "99   968  ATP     759      100           36          2021-12-21   \n",
       "\n",
       "                                                 team  \n",
       "0   {'id': 17488, 'sport_id': 2, 'category_id': No...  \n",
       "1   {'id': 16162, 'sport_id': 2, 'category_id': No...  \n",
       "2   {'id': 17479, 'sport_id': 2, 'category_id': No...  \n",
       "3   {'id': 13989, 'sport_id': 2, 'category_id': No...  \n",
       "4   {'id': 16142, 'sport_id': 2, 'category_id': No...  \n",
       "..                                                ...  \n",
       "95  {'id': 12965, 'sport_id': 2, 'category_id': No...  \n",
       "96  {'id': 13377, 'sport_id': 2, 'category_id': No...  \n",
       "97  {'id': 12971, 'sport_id': 2, 'category_id': No...  \n",
       "98  {'id': 13935, 'sport_id': 2, 'category_id': No...  \n",
       "99  {'id': 13310, 'sport_id': 2, 'category_id': No...  \n",
       "\n",
       "[100 rows x 7 columns]"
      ]
     },
     "execution_count": 9,
     "metadata": {},
     "output_type": "execute_result"
    }
   ],
   "source": [
    "players"
   ]
  },
  {
   "cell_type": "code",
   "execution_count": 23,
   "metadata": {},
   "outputs": [
    {
     "data": {
      "text/plain": [
       "'Djokovic, Novak'"
      ]
     },
     "execution_count": 23,
     "metadata": {},
     "output_type": "execute_result"
    }
   ],
   "source": [
    "# Player Name\n",
    "json_data['data'][0]['team']['name_full']"
   ]
  },
  {
   "cell_type": "code",
   "execution_count": 26,
   "metadata": {},
   "outputs": [
    {
     "data": {
      "text/plain": [
       "1"
      ]
     },
     "execution_count": 26,
     "metadata": {},
     "output_type": "execute_result"
    }
   ],
   "source": [
    "# Player Rank\n",
    "json_data['data'][0]['ranking']"
   ]
  },
  {
   "cell_type": "code",
   "execution_count": 27,
   "metadata": {},
   "outputs": [
    {
     "data": {
      "text/plain": [
       "17488"
      ]
     },
     "execution_count": 27,
     "metadata": {},
     "output_type": "execute_result"
    }
   ],
   "source": [
    "# Player ID\n",
    "json_data['data'][0]['team']['id']"
   ]
  },
  {
   "cell_type": "code",
   "execution_count": 28,
   "metadata": {},
   "outputs": [
    {
     "data": {
      "text/plain": [
       "11540"
      ]
     },
     "execution_count": 28,
     "metadata": {},
     "output_type": "execute_result"
    }
   ],
   "source": [
    "# Player Points\n",
    "json_data['data'][0]['points']"
   ]
  },
  {
   "cell_type": "code",
   "execution_count": 33,
   "metadata": {},
   "outputs": [
    {
     "data": {
      "text/plain": [
       "'ATP'"
      ]
     },
     "execution_count": 33,
     "metadata": {},
     "output_type": "execute_result"
    }
   ],
   "source": [
    "# Player Tour\n",
    "json_data['data'][0]['type']"
   ]
  },
  {
   "cell_type": "code",
   "execution_count": 36,
   "metadata": {},
   "outputs": [
    {
     "data": {
      "text/plain": [
       "'2021-12-21'"
      ]
     },
     "execution_count": 36,
     "metadata": {},
     "output_type": "execute_result"
    }
   ],
   "source": [
    "# Ranking Date\n",
    "json_data['data'][0]['official_updated_at']"
   ]
  },
  {
   "cell_type": "code",
   "execution_count": 1,
   "metadata": {},
   "outputs": [
    {
     "ename": "NameError",
     "evalue": "name 'json_data' is not defined",
     "output_type": "error",
     "traceback": [
      "\u001b[0;31m---------------------------------------------------------------------------\u001b[0m",
      "\u001b[0;31mNameError\u001b[0m                                 Traceback (most recent call last)",
      "\u001b[0;32m/var/folders/x7/vyjrs_ss1v946tl86t7ttfjh0000gn/T/ipykernel_85266/1263101922.py\u001b[0m in \u001b[0;36m<module>\u001b[0;34m\u001b[0m\n\u001b[0;32m----> 1\u001b[0;31m \u001b[0mjson_data\u001b[0m\u001b[0;34m\u001b[0m\u001b[0;34m\u001b[0m\u001b[0m\n\u001b[0m",
      "\u001b[0;31mNameError\u001b[0m: name 'json_data' is not defined"
     ]
    }
   ],
   "source": [
    "json_data"
   ]
  },
  {
   "cell_type": "code",
   "execution_count": 41,
   "metadata": {},
   "outputs": [],
   "source": [
    "import mysql.connector"
   ]
  },
  {
   "cell_type": "code",
   "execution_count": 43,
   "metadata": {},
   "outputs": [
    {
     "name": "stdout",
     "output_type": "stream",
     "text": [
      "[(datetime.datetime(2021, 12, 29, 9, 10, 23),)]\n"
     ]
    }
   ],
   "source": [
    "ENDPOINT = os.getenv('ENDPOINT')\n",
    "PORT = os.getenv('PORT')\n",
    "USER = os.getenv('USER')\n",
    "REGION = os.getenv('REGION')\n",
    "DBNAME = os.getenv('DBNAME')\n",
    "PASSWD = os.getenv('PASSWD')\n",
    "\n",
    "try:\n",
    "    conn =  mysql.connector.connect(host=ENDPOINT, user=USER, passwd=PASSWD, port=PORT, database=DBNAME)\n",
    "    cur = conn.cursor()\n",
    "    cur.execute(\"\"\"SELECT now()\"\"\")\n",
    "    query_results = cur.fetchall()\n",
    "    print(query_results)\n",
    "except Exception as e:\n",
    "    print(\"Database connection failed due to {}\".format(e))      \n"
   ]
  },
  {
   "cell_type": "code",
   "execution_count": 36,
   "metadata": {},
   "outputs": [
    {
     "ename": "ProgrammingError",
     "evalue": "1045 (28000): Access denied for user 'root'@'121.211.91.169' (using password: NO)",
     "output_type": "error",
     "traceback": [
      "\u001b[0;31m---------------------------------------------------------------------------\u001b[0m",
      "\u001b[0;31mProgrammingError\u001b[0m                          Traceback (most recent call last)",
      "\u001b[0;32m/var/folders/x7/vyjrs_ss1v946tl86t7ttfjh0000gn/T/ipykernel_65672/1365112639.py\u001b[0m in \u001b[0;36m<module>\u001b[0;34m\u001b[0m\n\u001b[0;32m----> 1\u001b[0;31m \u001b[0mconn\u001b[0m \u001b[0;34m=\u001b[0m \u001b[0mmysql\u001b[0m\u001b[0;34m.\u001b[0m\u001b[0mconnector\u001b[0m\u001b[0;34m.\u001b[0m\u001b[0mconnect\u001b[0m\u001b[0;34m(\u001b[0m\u001b[0mhost\u001b[0m\u001b[0;34m=\u001b[0m\u001b[0mENDPOINT\u001b[0m\u001b[0;34m,\u001b[0m \u001b[0muser\u001b[0m\u001b[0;34m=\u001b[0m\u001b[0mUSER\u001b[0m\u001b[0;34m,\u001b[0m \u001b[0mpasswd\u001b[0m\u001b[0;34m=\u001b[0m\u001b[0mPW\u001b[0m\u001b[0;34m,\u001b[0m \u001b[0mdatabase\u001b[0m\u001b[0;34m=\u001b[0m\u001b[0mDBNAME\u001b[0m\u001b[0;34m,\u001b[0m \u001b[0mport\u001b[0m\u001b[0;34m=\u001b[0m\u001b[0mPORT\u001b[0m\u001b[0;34m)\u001b[0m\u001b[0;34m\u001b[0m\u001b[0;34m\u001b[0m\u001b[0m\n\u001b[0m\u001b[1;32m      2\u001b[0m \u001b[0mcur\u001b[0m \u001b[0;34m=\u001b[0m \u001b[0mconn\u001b[0m\u001b[0;34m.\u001b[0m\u001b[0mcursor\u001b[0m\u001b[0;34m(\u001b[0m\u001b[0;34m)\u001b[0m\u001b[0;34m\u001b[0m\u001b[0;34m\u001b[0m\u001b[0m\n\u001b[1;32m      3\u001b[0m \u001b[0mcur\u001b[0m\u001b[0;34m.\u001b[0m\u001b[0mexecute\u001b[0m\u001b[0;34m(\u001b[0m\u001b[0;34m\"\"\"SELECT now()\"\"\"\u001b[0m\u001b[0;34m)\u001b[0m\u001b[0;34m\u001b[0m\u001b[0;34m\u001b[0m\u001b[0m\n\u001b[1;32m      4\u001b[0m \u001b[0mquery_results\u001b[0m \u001b[0;34m=\u001b[0m \u001b[0mcur\u001b[0m\u001b[0;34m.\u001b[0m\u001b[0mfetchall\u001b[0m\u001b[0;34m(\u001b[0m\u001b[0;34m)\u001b[0m\u001b[0;34m\u001b[0m\u001b[0;34m\u001b[0m\u001b[0m\n\u001b[1;32m      5\u001b[0m \u001b[0mprint\u001b[0m\u001b[0;34m(\u001b[0m\u001b[0mquery_results\u001b[0m\u001b[0;34m)\u001b[0m\u001b[0;34m\u001b[0m\u001b[0;34m\u001b[0m\u001b[0m\n",
      "\u001b[0;32m~/.local/share/virtualenvs/tennis-UXKiJQTp/lib/python3.9/site-packages/mysql/connector/__init__.py\u001b[0m in \u001b[0;36mconnect\u001b[0;34m(*args, **kwargs)\u001b[0m\n\u001b[1;32m    271\u001b[0m     \u001b[0;32mif\u001b[0m \u001b[0mHAVE_CEXT\u001b[0m \u001b[0;32mand\u001b[0m \u001b[0;32mnot\u001b[0m \u001b[0muse_pure\u001b[0m\u001b[0;34m:\u001b[0m\u001b[0;34m\u001b[0m\u001b[0;34m\u001b[0m\u001b[0m\n\u001b[1;32m    272\u001b[0m         \u001b[0;32mreturn\u001b[0m \u001b[0mCMySQLConnection\u001b[0m\u001b[0;34m(\u001b[0m\u001b[0;34m*\u001b[0m\u001b[0margs\u001b[0m\u001b[0;34m,\u001b[0m \u001b[0;34m**\u001b[0m\u001b[0mkwargs\u001b[0m\u001b[0;34m)\u001b[0m\u001b[0;34m\u001b[0m\u001b[0;34m\u001b[0m\u001b[0m\n\u001b[0;32m--> 273\u001b[0;31m     \u001b[0;32mreturn\u001b[0m \u001b[0mMySQLConnection\u001b[0m\u001b[0;34m(\u001b[0m\u001b[0;34m*\u001b[0m\u001b[0margs\u001b[0m\u001b[0;34m,\u001b[0m \u001b[0;34m**\u001b[0m\u001b[0mkwargs\u001b[0m\u001b[0;34m)\u001b[0m\u001b[0;34m\u001b[0m\u001b[0;34m\u001b[0m\u001b[0m\n\u001b[0m\u001b[1;32m    274\u001b[0m \u001b[0mConnect\u001b[0m \u001b[0;34m=\u001b[0m \u001b[0mconnect\u001b[0m  \u001b[0;31m# pylint: disable=C0103\u001b[0m\u001b[0;34m\u001b[0m\u001b[0;34m\u001b[0m\u001b[0m\n\u001b[1;32m    275\u001b[0m \u001b[0;34m\u001b[0m\u001b[0m\n",
      "\u001b[0;32m~/.local/share/virtualenvs/tennis-UXKiJQTp/lib/python3.9/site-packages/mysql/connector/connection.py\u001b[0m in \u001b[0;36m__init__\u001b[0;34m(self, *args, **kwargs)\u001b[0m\n\u001b[1;32m    112\u001b[0m         \u001b[0;32mif\u001b[0m \u001b[0mkwargs\u001b[0m\u001b[0;34m:\u001b[0m\u001b[0;34m\u001b[0m\u001b[0;34m\u001b[0m\u001b[0m\n\u001b[1;32m    113\u001b[0m             \u001b[0;32mtry\u001b[0m\u001b[0;34m:\u001b[0m\u001b[0;34m\u001b[0m\u001b[0;34m\u001b[0m\u001b[0m\n\u001b[0;32m--> 114\u001b[0;31m                 \u001b[0mself\u001b[0m\u001b[0;34m.\u001b[0m\u001b[0mconnect\u001b[0m\u001b[0;34m(\u001b[0m\u001b[0;34m**\u001b[0m\u001b[0mkwargs\u001b[0m\u001b[0;34m)\u001b[0m\u001b[0;34m\u001b[0m\u001b[0;34m\u001b[0m\u001b[0m\n\u001b[0m\u001b[1;32m    115\u001b[0m             \u001b[0;32mexcept\u001b[0m\u001b[0;34m:\u001b[0m\u001b[0;34m\u001b[0m\u001b[0;34m\u001b[0m\u001b[0m\n\u001b[1;32m    116\u001b[0m                 \u001b[0;31m# Tidy-up underlying socket on failure\u001b[0m\u001b[0;34m\u001b[0m\u001b[0;34m\u001b[0m\u001b[0m\n",
      "\u001b[0;32m~/.local/share/virtualenvs/tennis-UXKiJQTp/lib/python3.9/site-packages/mysql/connector/abstracts.py\u001b[0m in \u001b[0;36mconnect\u001b[0;34m(self, **kwargs)\u001b[0m\n\u001b[1;32m   1012\u001b[0m \u001b[0;34m\u001b[0m\u001b[0m\n\u001b[1;32m   1013\u001b[0m         \u001b[0mself\u001b[0m\u001b[0;34m.\u001b[0m\u001b[0mdisconnect\u001b[0m\u001b[0;34m(\u001b[0m\u001b[0;34m)\u001b[0m\u001b[0;34m\u001b[0m\u001b[0;34m\u001b[0m\u001b[0m\n\u001b[0;32m-> 1014\u001b[0;31m         \u001b[0mself\u001b[0m\u001b[0;34m.\u001b[0m\u001b[0m_open_connection\u001b[0m\u001b[0;34m(\u001b[0m\u001b[0;34m)\u001b[0m\u001b[0;34m\u001b[0m\u001b[0;34m\u001b[0m\u001b[0m\n\u001b[0m\u001b[1;32m   1015\u001b[0m         \u001b[0;31m# Server does not allow to run any other statement different from ALTER\u001b[0m\u001b[0;34m\u001b[0m\u001b[0;34m\u001b[0m\u001b[0m\n\u001b[1;32m   1016\u001b[0m         \u001b[0;31m# when user's password has been expired.\u001b[0m\u001b[0;34m\u001b[0m\u001b[0;34m\u001b[0m\u001b[0m\n",
      "\u001b[0;32m~/.local/share/virtualenvs/tennis-UXKiJQTp/lib/python3.9/site-packages/mysql/connector/connection.py\u001b[0m in \u001b[0;36m_open_connection\u001b[0;34m(self)\u001b[0m\n\u001b[1;32m    426\u001b[0m             \u001b[0mself\u001b[0m\u001b[0;34m.\u001b[0m\u001b[0m_socket\u001b[0m\u001b[0;34m.\u001b[0m\u001b[0mopen_connection\u001b[0m\u001b[0;34m(\u001b[0m\u001b[0;34m)\u001b[0m\u001b[0;34m\u001b[0m\u001b[0;34m\u001b[0m\u001b[0m\n\u001b[1;32m    427\u001b[0m             \u001b[0mself\u001b[0m\u001b[0;34m.\u001b[0m\u001b[0m_do_handshake\u001b[0m\u001b[0;34m(\u001b[0m\u001b[0;34m)\u001b[0m\u001b[0;34m\u001b[0m\u001b[0;34m\u001b[0m\u001b[0m\n\u001b[0;32m--> 428\u001b[0;31m             self._do_auth(self._user, self._password,\n\u001b[0m\u001b[1;32m    429\u001b[0m                           \u001b[0mself\u001b[0m\u001b[0;34m.\u001b[0m\u001b[0m_database\u001b[0m\u001b[0;34m,\u001b[0m \u001b[0mself\u001b[0m\u001b[0;34m.\u001b[0m\u001b[0m_client_flags\u001b[0m\u001b[0;34m,\u001b[0m \u001b[0mself\u001b[0m\u001b[0;34m.\u001b[0m\u001b[0m_charset_id\u001b[0m\u001b[0;34m,\u001b[0m\u001b[0;34m\u001b[0m\u001b[0;34m\u001b[0m\u001b[0m\n\u001b[1;32m    430\u001b[0m                           self._ssl, self._conn_attrs)\n",
      "\u001b[0;32m~/.local/share/virtualenvs/tennis-UXKiJQTp/lib/python3.9/site-packages/mysql/connector/connection.py\u001b[0m in \u001b[0;36m_do_auth\u001b[0;34m(self, username, password, database, client_flags, charset, ssl_options, conn_attrs)\u001b[0m\n\u001b[1;32m    227\u001b[0m             conn_attrs=conn_attrs)\n\u001b[1;32m    228\u001b[0m         \u001b[0mself\u001b[0m\u001b[0;34m.\u001b[0m\u001b[0m_socket\u001b[0m\u001b[0;34m.\u001b[0m\u001b[0msend\u001b[0m\u001b[0;34m(\u001b[0m\u001b[0mpacket\u001b[0m\u001b[0;34m)\u001b[0m\u001b[0;34m\u001b[0m\u001b[0;34m\u001b[0m\u001b[0m\n\u001b[0;32m--> 229\u001b[0;31m         \u001b[0mself\u001b[0m\u001b[0;34m.\u001b[0m\u001b[0m_auth_switch_request\u001b[0m\u001b[0;34m(\u001b[0m\u001b[0musername\u001b[0m\u001b[0;34m,\u001b[0m \u001b[0mpassword\u001b[0m\u001b[0;34m)\u001b[0m\u001b[0;34m\u001b[0m\u001b[0;34m\u001b[0m\u001b[0m\n\u001b[0m\u001b[1;32m    230\u001b[0m \u001b[0;34m\u001b[0m\u001b[0m\n\u001b[1;32m    231\u001b[0m         \u001b[0;32mif\u001b[0m \u001b[0;32mnot\u001b[0m \u001b[0;34m(\u001b[0m\u001b[0mclient_flags\u001b[0m \u001b[0;34m&\u001b[0m \u001b[0mClientFlag\u001b[0m\u001b[0;34m.\u001b[0m\u001b[0mCONNECT_WITH_DB\u001b[0m\u001b[0;34m)\u001b[0m \u001b[0;32mand\u001b[0m \u001b[0mdatabase\u001b[0m\u001b[0;34m:\u001b[0m\u001b[0;34m\u001b[0m\u001b[0;34m\u001b[0m\u001b[0m\n",
      "\u001b[0;32m~/.local/share/virtualenvs/tennis-UXKiJQTp/lib/python3.9/site-packages/mysql/connector/connection.py\u001b[0m in \u001b[0;36m_auth_switch_request\u001b[0;34m(self, username, password)\u001b[0m\n\u001b[1;32m    378\u001b[0m             \u001b[0;32mreturn\u001b[0m \u001b[0mself\u001b[0m\u001b[0;34m.\u001b[0m\u001b[0m_handle_ok\u001b[0m\u001b[0;34m(\u001b[0m\u001b[0mpacket\u001b[0m\u001b[0;34m)\u001b[0m\u001b[0;34m\u001b[0m\u001b[0;34m\u001b[0m\u001b[0m\n\u001b[1;32m    379\u001b[0m         \u001b[0;32melif\u001b[0m \u001b[0mpacket\u001b[0m\u001b[0;34m[\u001b[0m\u001b[0;36m4\u001b[0m\u001b[0;34m]\u001b[0m \u001b[0;34m==\u001b[0m \u001b[0;36m255\u001b[0m\u001b[0;34m:\u001b[0m\u001b[0;34m\u001b[0m\u001b[0;34m\u001b[0m\u001b[0m\n\u001b[0;32m--> 380\u001b[0;31m             \u001b[0;32mraise\u001b[0m \u001b[0merrors\u001b[0m\u001b[0;34m.\u001b[0m\u001b[0mget_exception\u001b[0m\u001b[0;34m(\u001b[0m\u001b[0mpacket\u001b[0m\u001b[0;34m)\u001b[0m\u001b[0;34m\u001b[0m\u001b[0;34m\u001b[0m\u001b[0m\n\u001b[0m\u001b[1;32m    381\u001b[0m         \u001b[0;32mreturn\u001b[0m \u001b[0;32mNone\u001b[0m\u001b[0;34m\u001b[0m\u001b[0;34m\u001b[0m\u001b[0m\n\u001b[1;32m    382\u001b[0m \u001b[0;34m\u001b[0m\u001b[0m\n",
      "\u001b[0;31mProgrammingError\u001b[0m: 1045 (28000): Access denied for user 'root'@'121.211.91.169' (using password: NO)"
     ]
    }
   ],
   "source": [
    "conn = mysql.connector.connect(host=ENDPOINT, user=USER, passwd=PASSWORD, database=DBNAME, port=PORT)\n",
    "cur = conn.cursor()\n",
    "cur.execute(\"\"\"SELECT now()\"\"\")    \n",
    "query_results = cur.fetchall()\n",
    "print(query_results)"
   ]
  },
  {
   "cell_type": "code",
   "execution_count": 39,
   "metadata": {},
   "outputs": [
    {
     "name": "stdout",
     "output_type": "stream",
     "text": [
      "None\n"
     ]
    }
   ],
   "source": [
    "print(PASSWD)"
   ]
  },
  {
   "cell_type": "code",
   "execution_count": 1,
   "metadata": {},
   "outputs": [],
   "source": [
    "import json\n",
    "import os\n",
    "import sys\n",
    "\n",
    "import numpy as np\n",
    "\n",
    "# import mysql.connector\n",
    "import pandas as pd\n",
    "import requests\n",
    "from sqlalchemy import create_engine\n",
    "\n",
    "from sql import execute_query\n",
    "\n",
    "urls = [\n",
    "    \"https://sportscore1.p.rapidapi.com/tennis-rankings/atp\",\n",
    "    \"https://sportscore1.p.rapidapi.com/tennis-rankings/wta\",\n",
    "]\n",
    "headers = {\n",
    "    \"x-rapidapi-host\": \"sportscore1.p.rapidapi.com\",\n",
    "    \"x-rapidapi-key\": \"811228ff06msh50e3dfe9f8a5ecfp1e975ejsn6b992dbfd77b\",\n",
    "}\n",
    "\n",
    "players = pd.DataFrame()\n"
   ]
  },
  {
   "cell_type": "code",
   "execution_count": 16,
   "metadata": {},
   "outputs": [],
   "source": [
    "def get_data(url):\n",
    "    response = requests.request(\"GET\", url, headers=headers)\n",
    "    json_data = json.loads(response.text)\n",
    "    ranking,player_id,player_first_name,player_last_name,points,tour,ranking_date =[[] for i in range(7)]\n",
    "\n",
    "    for rank in json_data[\"data\"]:\n",
    "        ranking.append(rank[\"ranking\"])\n",
    "        player_id.append(rank[\"team\"][\"id\"])\n",
    "        player_first_name.append(rank[\"team\"][\"name_full\"].split(\", \")[1])\n",
    "        player_last_name.append(rank[\"team\"][\"name_full\"].split(\", \")[0])\n",
    "        points.append(rank[\"points\"])\n",
    "        tour.append(rank[\"type\"])\n",
    "        ranking_date.append(rank[\"official_updated_at\"])\n",
    "\n",
    "    ranking \n",
    "    \n",
    "    df = pd.DataFrame(\n",
    "            np.column_stack([\n",
    "                ranking,\n",
    "                player_id,\n",
    "                player_first_name,\n",
    "                player_last_name,\n",
    "                points,\n",
    "                tour,\n",
    "                ranking_date,\n",
    "            ])\n",
    "        )\n",
    "    df.head()\n",
    "    return df"
   ]
  },
  {
   "cell_type": "code",
   "execution_count": 17,
   "metadata": {},
   "outputs": [
    {
     "data": {
      "text/html": [
       "<div>\n",
       "<style scoped>\n",
       "    .dataframe tbody tr th:only-of-type {\n",
       "        vertical-align: middle;\n",
       "    }\n",
       "\n",
       "    .dataframe tbody tr th {\n",
       "        vertical-align: top;\n",
       "    }\n",
       "\n",
       "    .dataframe thead th {\n",
       "        text-align: right;\n",
       "    }\n",
       "</style>\n",
       "<table border=\"1\" class=\"dataframe\">\n",
       "  <thead>\n",
       "    <tr style=\"text-align: right;\">\n",
       "      <th></th>\n",
       "      <th>0</th>\n",
       "      <th>1</th>\n",
       "      <th>2</th>\n",
       "      <th>3</th>\n",
       "      <th>4</th>\n",
       "      <th>5</th>\n",
       "      <th>6</th>\n",
       "    </tr>\n",
       "  </thead>\n",
       "  <tbody>\n",
       "    <tr>\n",
       "      <th>0</th>\n",
       "      <td>1</td>\n",
       "      <td>11570</td>\n",
       "      <td>Ashleigh</td>\n",
       "      <td>Barty</td>\n",
       "      <td>7582</td>\n",
       "      <td>WTA</td>\n",
       "      <td>2021-12-30</td>\n",
       "    </tr>\n",
       "    <tr>\n",
       "      <th>1</th>\n",
       "      <td>2</td>\n",
       "      <td>11583</td>\n",
       "      <td>Aryna</td>\n",
       "      <td>Sabalenka</td>\n",
       "      <td>6380</td>\n",
       "      <td>WTA</td>\n",
       "      <td>2021-12-30</td>\n",
       "    </tr>\n",
       "    <tr>\n",
       "      <th>2</th>\n",
       "      <td>3</td>\n",
       "      <td>11566</td>\n",
       "      <td>Garbiñe</td>\n",
       "      <td>Muguruza</td>\n",
       "      <td>5685</td>\n",
       "      <td>WTA</td>\n",
       "      <td>2021-12-30</td>\n",
       "    </tr>\n",
       "    <tr>\n",
       "      <th>3</th>\n",
       "      <td>4</td>\n",
       "      <td>11552</td>\n",
       "      <td>Karolína</td>\n",
       "      <td>Plíšková</td>\n",
       "      <td>5135</td>\n",
       "      <td>WTA</td>\n",
       "      <td>2021-12-30</td>\n",
       "    </tr>\n",
       "    <tr>\n",
       "      <th>4</th>\n",
       "      <td>5</td>\n",
       "      <td>12661</td>\n",
       "      <td>Barbora</td>\n",
       "      <td>Krejčíková</td>\n",
       "      <td>5008</td>\n",
       "      <td>WTA</td>\n",
       "      <td>2021-12-30</td>\n",
       "    </tr>\n",
       "    <tr>\n",
       "      <th>...</th>\n",
       "      <td>...</td>\n",
       "      <td>...</td>\n",
       "      <td>...</td>\n",
       "      <td>...</td>\n",
       "      <td>...</td>\n",
       "      <td>...</td>\n",
       "      <td>...</td>\n",
       "    </tr>\n",
       "    <tr>\n",
       "      <th>95</th>\n",
       "      <td>96</td>\n",
       "      <td>11959</td>\n",
       "      <td>Danka</td>\n",
       "      <td>Kovinić</td>\n",
       "      <td>808</td>\n",
       "      <td>WTA</td>\n",
       "      <td>2022-01-03</td>\n",
       "    </tr>\n",
       "    <tr>\n",
       "      <th>96</th>\n",
       "      <td>97</td>\n",
       "      <td>12352</td>\n",
       "      <td>Kristína</td>\n",
       "      <td>Kučová</td>\n",
       "      <td>807</td>\n",
       "      <td>WTA</td>\n",
       "      <td>2022-01-03</td>\n",
       "    </tr>\n",
       "    <tr>\n",
       "      <th>97</th>\n",
       "      <td>98</td>\n",
       "      <td>12342</td>\n",
       "      <td>Astra</td>\n",
       "      <td>Sharma</td>\n",
       "      <td>806</td>\n",
       "      <td>WTA</td>\n",
       "      <td>2022-01-03</td>\n",
       "    </tr>\n",
       "    <tr>\n",
       "      <th>98</th>\n",
       "      <td>99</td>\n",
       "      <td>12585</td>\n",
       "      <td>Dayana</td>\n",
       "      <td>Yastremska</td>\n",
       "      <td>789</td>\n",
       "      <td>WTA</td>\n",
       "      <td>2021-12-30</td>\n",
       "    </tr>\n",
       "    <tr>\n",
       "      <th>99</th>\n",
       "      <td>100</td>\n",
       "      <td>12267</td>\n",
       "      <td>Kaja</td>\n",
       "      <td>Juvan</td>\n",
       "      <td>788</td>\n",
       "      <td>WTA</td>\n",
       "      <td>2021-12-30</td>\n",
       "    </tr>\n",
       "  </tbody>\n",
       "</table>\n",
       "<p>100 rows × 7 columns</p>\n",
       "</div>"
      ],
      "text/plain": [
       "      0      1         2           3     4    5           6\n",
       "0     1  11570  Ashleigh       Barty  7582  WTA  2021-12-30\n",
       "1     2  11583     Aryna   Sabalenka  6380  WTA  2021-12-30\n",
       "2     3  11566   Garbiñe    Muguruza  5685  WTA  2021-12-30\n",
       "3     4  11552  Karolína    Plíšková  5135  WTA  2021-12-30\n",
       "4     5  12661   Barbora  Krejčíková  5008  WTA  2021-12-30\n",
       "..  ...    ...       ...         ...   ...  ...         ...\n",
       "95   96  11959     Danka     Kovinić   808  WTA  2022-01-03\n",
       "96   97  12352  Kristína      Kučová   807  WTA  2022-01-03\n",
       "97   98  12342     Astra      Sharma   806  WTA  2022-01-03\n",
       "98   99  12585    Dayana  Yastremska   789  WTA  2021-12-30\n",
       "99  100  12267      Kaja       Juvan   788  WTA  2021-12-30\n",
       "\n",
       "[100 rows x 7 columns]"
      ]
     },
     "execution_count": 17,
     "metadata": {},
     "output_type": "execute_result"
    }
   ],
   "source": [
    "get_data(urls[1])"
   ]
  },
  {
   "cell_type": "code",
   "execution_count": 18,
   "metadata": {},
   "outputs": [],
   "source": [
    "\n",
    "\n",
    "players.head()\n",
    "players.to_csv(\"test.csv\", index=False)\n",
    "\n",
    "ENDPOINT = os.getenv(\"ENDPOINT\")\n",
    "PORT = os.getenv(\"PORT\")\n",
    "USER = os.getenv(\"USER\")\n",
    "REGION = os.getenv(\"REGION\")\n",
    "DBNAME = os.getenv(\"DBNAME\")\n",
    "PASSWD = os.getenv(\"PASSWD\")\n",
    "\n",
    "# engine = create_engine(f\"mysql+mysqlconnector://{USER}:{PASSWD}@{ENDPOINT}/{DBNAME}\")\n",
    "# players.to_sql(con=engine, name=\"ranking\", if_exists=\"append\", index=False)"
   ]
  },
  {
   "cell_type": "code",
   "execution_count": 30,
   "metadata": {},
   "outputs": [],
   "source": [
    "df1 = get_data(urls[0])\n",
    "df2 = get_data(urls[1])"
   ]
  },
  {
   "cell_type": "code",
   "execution_count": 36,
   "metadata": {},
   "outputs": [],
   "source": [
    "players = players.append(df1)"
   ]
  },
  {
   "cell_type": "code",
   "execution_count": 37,
   "metadata": {},
   "outputs": [
    {
     "data": {
      "text/html": [
       "<div>\n",
       "<style scoped>\n",
       "    .dataframe tbody tr th:only-of-type {\n",
       "        vertical-align: middle;\n",
       "    }\n",
       "\n",
       "    .dataframe tbody tr th {\n",
       "        vertical-align: top;\n",
       "    }\n",
       "\n",
       "    .dataframe thead th {\n",
       "        text-align: right;\n",
       "    }\n",
       "</style>\n",
       "<table border=\"1\" class=\"dataframe\">\n",
       "  <thead>\n",
       "    <tr style=\"text-align: right;\">\n",
       "      <th></th>\n",
       "      <th>0</th>\n",
       "      <th>1</th>\n",
       "      <th>2</th>\n",
       "      <th>3</th>\n",
       "      <th>4</th>\n",
       "      <th>5</th>\n",
       "      <th>6</th>\n",
       "    </tr>\n",
       "  </thead>\n",
       "  <tbody>\n",
       "    <tr>\n",
       "      <th>0</th>\n",
       "      <td>1</td>\n",
       "      <td>17488</td>\n",
       "      <td>Novak</td>\n",
       "      <td>Djokovic</td>\n",
       "      <td>11540</td>\n",
       "      <td>ATP</td>\n",
       "      <td>2021-12-21</td>\n",
       "    </tr>\n",
       "    <tr>\n",
       "      <th>1</th>\n",
       "      <td>2</td>\n",
       "      <td>16162</td>\n",
       "      <td>Daniil</td>\n",
       "      <td>Medvedev</td>\n",
       "      <td>8640</td>\n",
       "      <td>ATP</td>\n",
       "      <td>2021-12-21</td>\n",
       "    </tr>\n",
       "    <tr>\n",
       "      <th>2</th>\n",
       "      <td>3</td>\n",
       "      <td>17479</td>\n",
       "      <td>Alexander</td>\n",
       "      <td>Zverev</td>\n",
       "      <td>7840</td>\n",
       "      <td>ATP</td>\n",
       "      <td>2021-12-21</td>\n",
       "    </tr>\n",
       "    <tr>\n",
       "      <th>3</th>\n",
       "      <td>4</td>\n",
       "      <td>13989</td>\n",
       "      <td>Stefanos</td>\n",
       "      <td>Tsitsipas</td>\n",
       "      <td>6540</td>\n",
       "      <td>ATP</td>\n",
       "      <td>2021-12-21</td>\n",
       "    </tr>\n",
       "    <tr>\n",
       "      <th>4</th>\n",
       "      <td>5</td>\n",
       "      <td>16142</td>\n",
       "      <td>Andrey</td>\n",
       "      <td>Rublev</td>\n",
       "      <td>5150</td>\n",
       "      <td>ATP</td>\n",
       "      <td>2021-12-21</td>\n",
       "    </tr>\n",
       "    <tr>\n",
       "      <th>...</th>\n",
       "      <td>...</td>\n",
       "      <td>...</td>\n",
       "      <td>...</td>\n",
       "      <td>...</td>\n",
       "      <td>...</td>\n",
       "      <td>...</td>\n",
       "      <td>...</td>\n",
       "    </tr>\n",
       "    <tr>\n",
       "      <th>95</th>\n",
       "      <td>96</td>\n",
       "      <td>12965</td>\n",
       "      <td>Tennys</td>\n",
       "      <td>Sandgren</td>\n",
       "      <td>773</td>\n",
       "      <td>ATP</td>\n",
       "      <td>2021-12-21</td>\n",
       "    </tr>\n",
       "    <tr>\n",
       "      <th>96</th>\n",
       "      <td>97</td>\n",
       "      <td>13377</td>\n",
       "      <td>Pablo</td>\n",
       "      <td>Cuevas</td>\n",
       "      <td>770</td>\n",
       "      <td>ATP</td>\n",
       "      <td>2021-12-21</td>\n",
       "    </tr>\n",
       "    <tr>\n",
       "      <th>97</th>\n",
       "      <td>98</td>\n",
       "      <td>12971</td>\n",
       "      <td>Henri</td>\n",
       "      <td>Laaksonen</td>\n",
       "      <td>765</td>\n",
       "      <td>ATP</td>\n",
       "      <td>2021-12-21</td>\n",
       "    </tr>\n",
       "    <tr>\n",
       "      <th>98</th>\n",
       "      <td>99</td>\n",
       "      <td>13935</td>\n",
       "      <td>Sebastián</td>\n",
       "      <td>Baez</td>\n",
       "      <td>762</td>\n",
       "      <td>ATP</td>\n",
       "      <td>2021-12-29</td>\n",
       "    </tr>\n",
       "    <tr>\n",
       "      <th>99</th>\n",
       "      <td>100</td>\n",
       "      <td>13310</td>\n",
       "      <td>Marco</td>\n",
       "      <td>Cecchinato</td>\n",
       "      <td>759</td>\n",
       "      <td>ATP</td>\n",
       "      <td>2021-12-21</td>\n",
       "    </tr>\n",
       "  </tbody>\n",
       "</table>\n",
       "<p>100 rows × 7 columns</p>\n",
       "</div>"
      ],
      "text/plain": [
       "      0      1          2           3      4    5           6\n",
       "0     1  17488      Novak    Djokovic  11540  ATP  2021-12-21\n",
       "1     2  16162     Daniil    Medvedev   8640  ATP  2021-12-21\n",
       "2     3  17479  Alexander      Zverev   7840  ATP  2021-12-21\n",
       "3     4  13989   Stefanos   Tsitsipas   6540  ATP  2021-12-21\n",
       "4     5  16142     Andrey      Rublev   5150  ATP  2021-12-21\n",
       "..  ...    ...        ...         ...    ...  ...         ...\n",
       "95   96  12965     Tennys    Sandgren    773  ATP  2021-12-21\n",
       "96   97  13377      Pablo      Cuevas    770  ATP  2021-12-21\n",
       "97   98  12971      Henri   Laaksonen    765  ATP  2021-12-21\n",
       "98   99  13935  Sebastián        Baez    762  ATP  2021-12-29\n",
       "99  100  13310      Marco  Cecchinato    759  ATP  2021-12-21\n",
       "\n",
       "[100 rows x 7 columns]"
      ]
     },
     "execution_count": 37,
     "metadata": {},
     "output_type": "execute_result"
    }
   ],
   "source": [
    "players"
   ]
  },
  {
   "cell_type": "code",
   "execution_count": 1,
   "metadata": {},
   "outputs": [],
   "source": [
    "import json\n",
    "import os\n",
    "from datetime import datetime\n",
    "\n",
    "import numpy as np\n",
    "import pandas as pd\n",
    "import requests\n",
    "from numpy.lib.shape_base import column_stack\n",
    "from sqlalchemy import create_engine\n",
    "\n",
    "# API endpoint - players by sport ID (Tennis)\n",
    "url = \"https://sportscore1.p.rapidapi.com/sports/2/teams\"\n",
    "headers = {\n",
    "    \"x-rapidapi-host\": \"sportscore1.p.rapidapi.com\",\n",
    "    \"x-rapidapi-key\": \"811228ff06msh50e3dfe9f8a5ecfp1e975ejsn6b992dbfd77b\",\n",
    "}\n",
    "response = requests.request(\"GET\", url, headers=headers)\n",
    "data = json.loads(response.text)"
   ]
  },
  {
   "cell_type": "code",
   "execution_count": 25,
   "metadata": {},
   "outputs": [
    {
     "ename": "SyntaxError",
     "evalue": "invalid syntax (845729203.py, line 2)",
     "output_type": "error",
     "traceback": [
      "\u001b[0;36m  File \u001b[0;32m\"/var/folders/x7/vyjrs_ss1v946tl86t7ttfjh0000gn/T/ipykernel_92676/845729203.py\"\u001b[0;36m, line \u001b[0;32m2\u001b[0m\n\u001b[0;31m    if player['details']['date_of_birth'] isinstance(NoneType):\u001b[0m\n\u001b[0m                                          ^\u001b[0m\n\u001b[0;31mSyntaxError\u001b[0m\u001b[0;31m:\u001b[0m invalid syntax\n"
     ]
    }
   ],
   "source": [
    "for player in data['data']:\n",
    "    if player['details']['date_of_birth'] isinstance(NoneType):\n",
    "        print(NoneType)"
   ]
  },
  {
   "cell_type": "code",
   "execution_count": null,
   "metadata": {},
   "outputs": [],
   "source": []
  }
 ],
 "metadata": {
  "interpreter": {
   "hash": "090b940f4f86b8a849eea74633ce70e8fbca0d065f89a6a45ca63561a4b1a46e"
  },
  "kernelspec": {
   "display_name": "Python 3.9.7 64-bit ('tennis-UXKiJQTp': pipenv)",
   "language": "python",
   "name": "python3"
  },
  "language_info": {
   "codemirror_mode": {
    "name": "ipython",
    "version": 3
   },
   "file_extension": ".py",
   "mimetype": "text/x-python",
   "name": "python",
   "nbconvert_exporter": "python",
   "pygments_lexer": "ipython3",
   "version": "3.9.7"
  },
  "orig_nbformat": 4
 },
 "nbformat": 4,
 "nbformat_minor": 2
}
